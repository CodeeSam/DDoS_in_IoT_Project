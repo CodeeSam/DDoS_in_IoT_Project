{
 "cells": [
  {
   "cell_type": "code",
   "execution_count": null,
   "id": "1c286d11",
   "metadata": {},
   "outputs": [],
   "source": [
    "import pandas as pd"
   ]
  },
  {
   "cell_type": "code",
   "execution_count": null,
   "id": "af36e2ae",
   "metadata": {},
   "outputs": [],
   "source": [
    "df = pd.read_csv('neww_data.csv')\n",
    "df"
   ]
  },
  {
   "cell_type": "code",
   "execution_count": null,
   "id": "42a97b8a",
   "metadata": {},
   "outputs": [],
   "source": [
    "df.columns = df.columns.str.replace(' ','')\n",
    "df.columns"
   ]
  },
  {
   "cell_type": "code",
   "execution_count": null,
   "id": "d1839904",
   "metadata": {},
   "outputs": [],
   "source": [
    "# Describe the dataset\n",
    "print(df.describe())\n",
    "\n",
    "# Check for class distribution\n",
    "print(df.Inbound.value_counts())"
   ]
  },
  {
   "cell_type": "code",
   "execution_count": null,
   "id": "9bf61e39",
   "metadata": {},
   "outputs": [],
   "source": [
    "df1 = df.copy()"
   ]
  },
  {
   "cell_type": "code",
   "execution_count": null,
   "id": "745712bc",
   "metadata": {},
   "outputs": [],
   "source": [
    "df.head()"
   ]
  },
  {
   "cell_type": "code",
   "execution_count": null,
   "id": "6ce3c108",
   "metadata": {},
   "outputs": [],
   "source": [
    "from sklearn.preprocessing import MinMaxScaler\n",
    "\n",
    "# Select numerical columns\n",
    "numeric_cols = df.select_dtypes(include=['float64', 'int64']).columns\n",
    "\n",
    "# Apply Standard Scaling\n",
    "scaler = MinMaxScaler()\n",
    "df1[numeric_cols] = scaler.fit_transform(df[numeric_cols])"
   ]
  },
  {
   "cell_type": "code",
   "execution_count": null,
   "id": "91ccf768",
   "metadata": {},
   "outputs": [],
   "source": [
    "df1.info()"
   ]
  },
  {
   "cell_type": "code",
   "execution_count": null,
   "id": "2fe8d0be",
   "metadata": {},
   "outputs": [],
   "source": [
    "df1.head(10)"
   ]
  },
  {
   "cell_type": "code",
   "execution_count": null,
   "id": "24603507",
   "metadata": {},
   "outputs": [],
   "source": [
    "# Importing libraries\n",
    "import numpy as np\n",
    "from sklearn.cluster import KMeans\n",
    "\n",
    "# Applying KMeans clustering\n",
    "kmeans = KMeans(n_clusters=3, n_init=15)\n",
    "clusters = kmeans.fit_predict(df1)\n",
    "\n",
    "# Add the cluster as a new label in the original DataFrame\n",
    "df1['cluster'] = clusters\n",
    "\n",
    "# Assuming the smallest cluster is an anomaly, assign a binary label\n",
    "df1['label'] = np.where(df1['cluster'] == df1['cluster'].value_counts().idxmin(), 1, 0)"
   ]
  },
  {
   "cell_type": "code",
   "execution_count": null,
   "id": "644535fc",
   "metadata": {},
   "outputs": [],
   "source": [
    "df1.cluster.unique(), df1.label.unique()"
   ]
  },
  {
   "cell_type": "code",
   "execution_count": null,
   "id": "cf64b611",
   "metadata": {},
   "outputs": [],
   "source": [
    "df1.label.value_counts()"
   ]
  },
  {
   "cell_type": "code",
   "execution_count": null,
   "id": "d41bd81e",
   "metadata": {},
   "outputs": [],
   "source": [
    "from sklearn.feature_selection import mutual_info_classif\n",
    "\n",
    "# Calculate mutual information\n",
    "X = df1.drop(['label','cluster'], axis=1)\n",
    "y = df1['label']\n",
    "mi = mutual_info_classif(X, y)\n",
    "mi_series = pd.Series(mi, index=X.columns).sort_values(ascending=False)\n",
    "print(mi_series.head(10))"
   ]
  },
  {
   "cell_type": "code",
   "execution_count": null,
   "id": "97d800a6",
   "metadata": {},
   "outputs": [],
   "source": [
    "print(mi_series.head(15))"
   ]
  },
  {
   "cell_type": "code",
   "execution_count": null,
   "id": "b6419833",
   "metadata": {},
   "outputs": [],
   "source": [
    "len(mi_series)"
   ]
  },
  {
   "cell_type": "code",
   "execution_count": null,
   "id": "a50c56ec",
   "metadata": {},
   "outputs": [],
   "source": [
    "from sklearn.feature_selection import RFECV\n",
    "from sklearn.ensemble import RandomForestClassifier\n",
    "\n",
    "# Recursive feature elimination with cross-validation\n",
    "estimator = RandomForestClassifier()\n",
    "selector = RFECV(estimator, step=1, cv=4)\n",
    "selector = selector.fit(X, y)\n",
    "print(selector.support_)  # Selected features"
   ]
  },
  {
   "cell_type": "code",
   "execution_count": null,
   "id": "89a5006c",
   "metadata": {},
   "outputs": [],
   "source": [
    "# Compare features selected by MI and RFECV\n",
    "selected_features_mi = mi_series.head(10).index\n",
    "selected_features_rfecv = X.columns[selector.support_]\n",
    "print(set(selected_features_mi).intersection(set(selected_features_rfecv)))"
   ]
  },
  {
   "cell_type": "code",
   "execution_count": null,
   "id": "373ac1db",
   "metadata": {
    "scrolled": false
   },
   "outputs": [],
   "source": [
    "mi_rfecv_combined = set(selected_features_mi).union(set(selected_features_rfecv))\n",
    "mi_rfecv_combined"
   ]
  },
  {
   "cell_type": "code",
   "execution_count": null,
   "id": "d4ced47b",
   "metadata": {},
   "outputs": [],
   "source": [
    "mi_rfecv_intersection = set(selected_features_mi).intersection(set(selected_features_rfecv))\n",
    "mi_rfecv_intersection"
   ]
  },
  {
   "cell_type": "code",
   "execution_count": null,
   "id": "d17371eb",
   "metadata": {},
   "outputs": [],
   "source": [
    "selected_features_mi, selected_features_mi.shape"
   ]
  },
  {
   "cell_type": "code",
   "execution_count": null,
   "id": "450f21dd",
   "metadata": {},
   "outputs": [],
   "source": [
    "selected_features_rfecv, selected_features_rfecv.shape"
   ]
  },
  {
   "cell_type": "code",
   "execution_count": null,
   "id": "c4d8b863",
   "metadata": {},
   "outputs": [],
   "source": [
    "df1.label.value_counts()"
   ]
  },
  {
   "cell_type": "code",
   "execution_count": null,
   "id": "80602a32",
   "metadata": {},
   "outputs": [],
   "source": [
    "combined_features_list = list(mi_rfecv_intersection)\n",
    "combined_features_list"
   ]
  },
  {
   "cell_type": "code",
   "execution_count": null,
   "id": "f1fcea20",
   "metadata": {},
   "outputs": [],
   "source": [
    "len(combined_features_list)"
   ]
  },
  {
   "cell_type": "code",
   "execution_count": null,
   "id": "811b2adb",
   "metadata": {},
   "outputs": [],
   "source": [
    "combined_features_df = pd.DataFrame(df1[combined_features_list])\n",
    "combined_features_df.head()"
   ]
  },
  {
   "cell_type": "code",
   "execution_count": null,
   "id": "f03a24ad",
   "metadata": {},
   "outputs": [],
   "source": [
    "combined_features_df_with_label = combined_features_df.join(y)\n",
    "combined_features_df_with_label"
   ]
  },
  {
   "cell_type": "code",
   "execution_count": null,
   "id": "f1a91ea4",
   "metadata": {},
   "outputs": [],
   "source": [
    "combined_features_df_with_label.label.value_counts()"
   ]
  },
  {
   "cell_type": "code",
   "execution_count": null,
   "id": "87876b2e",
   "metadata": {},
   "outputs": [],
   "source": [
    "X = combined_features_df_with_label.drop('label', axis=1)\n",
    "X"
   ]
  },
  {
   "cell_type": "code",
   "execution_count": null,
   "id": "f7c67591",
   "metadata": {},
   "outputs": [],
   "source": [
    "y = y = combined_features_df_with_label.label\n",
    "y"
   ]
  },
  {
   "cell_type": "code",
   "execution_count": null,
   "id": "c1d63196",
   "metadata": {},
   "outputs": [],
   "source": [
    "from sklearn.model_selection import train_test_split\n",
    "\n",
    "X_train, X_test, y_train, y_test = train_test_split(X, y, test_size=0.30, shuffle=True)"
   ]
  },
  {
   "cell_type": "code",
   "execution_count": null,
   "id": "ef1c25a2",
   "metadata": {},
   "outputs": [],
   "source": [
    "X_train.shape, y_train.shape"
   ]
  },
  {
   "cell_type": "code",
   "execution_count": null,
   "id": "e87f5b83",
   "metadata": {},
   "outputs": [],
   "source": [
    "from sklearn.model_selection import GridSearchCV\n",
    "from sklearn.ensemble import AdaBoostClassifier\n",
    "from sklearn.svm import SVC\n",
    "\n",
    "# Define the model\n",
    "svm = SVC(probability=True)\n",
    "adaboost = AdaBoostClassifier(base_estimator=svm)\n",
    "\n",
    "# Define the hyperparameter grid\n",
    "param_grid = {\n",
    "    'base_estimator__C': [0.1, 1, 10],\n",
    "    'n_estimators': [50, 100, 150],\n",
    "}\n",
    "\n",
    "# Grid Search on the full dataset\n",
    "grid_search = GridSearchCV(estimator=adaboost, param_grid=param_grid, cv=5, n_jobs=-1)\n",
    "grid_search.fit(X_train, y_train)\n",
    "\n",
    "# Extracting the best parameters\n",
    "best_params = grid_search.best_params_\n",
    "best_score = grid_search.best_score_"
   ]
  },
  {
   "cell_type": "code",
   "execution_count": null,
   "id": "c48a28a6",
   "metadata": {},
   "outputs": [],
   "source": [
    "best_params, best_score"
   ]
  },
  {
   "cell_type": "code",
   "execution_count": null,
   "id": "6e98ff0a",
   "metadata": {},
   "outputs": [],
   "source": [
    "from sklearn.svm import SVC\n",
    "\n",
    "# Initialize and train the SVM model\n",
    "svm_model = SVC(kernel='linear', C=0.1, probability=True)\n",
    "svm_model.fit(X_train, y_train)"
   ]
  },
  {
   "cell_type": "code",
   "execution_count": null,
   "id": "237b15ec",
   "metadata": {},
   "outputs": [],
   "source": [
    "from sklearn.metrics import classification_report, accuracy_score\n",
    "\n",
    "# Make predictions on the test set\n",
    "y_pred_svm = svm_model.predict(X_test)\n",
    "\n",
    "# Evaluate the SVM model\n",
    "print(\"SVM Model Performance:\")\n",
    "print(\"Accuracy:\", accuracy_score(y_test, y_pred_svm))\n",
    "print(\"\\nClassification Report:\\n\", classification_report(y_test, y_pred_svm))"
   ]
  },
  {
   "cell_type": "code",
   "execution_count": null,
   "id": "217976c6",
   "metadata": {},
   "outputs": [],
   "source": [
    "from sklearn.ensemble import AdaBoostClassifier\n",
    "\n",
    "# Initialize and train the AdaBoost model with SVM as the base estimator\n",
    "adaboost_svm_model = AdaBoostClassifier(base_estimator=SVC(kernel='linear', C=0.1, probability=True),\n",
    "                                        n_estimators=50, learning_rate=1.0, random_state=42)\n",
    "adaboost_svm_model.fit(X_train, y_train)"
   ]
  },
  {
   "cell_type": "code",
   "execution_count": null,
   "id": "a3896e5e",
   "metadata": {},
   "outputs": [],
   "source": [
    "# Make predictions on the test set\n",
    "y_pred_adaboost = adaboost_svm_model.predict(X_test)\n",
    "\n",
    "# Evaluate the AdaBoost-SVM model\n",
    "print(\"AdaBoost-SVM Model Performance:\")\n",
    "print(\"Accuracy:\", accuracy_score(y_test, y_pred_adaboost))\n",
    "print(\"\\nClassification Report:\\n\", classification_report(y_test, y_pred_adaboost))"
   ]
  },
  {
   "cell_type": "code",
   "execution_count": null,
   "id": "5219edc5",
   "metadata": {},
   "outputs": [],
   "source": []
  },
  {
   "cell_type": "code",
   "execution_count": null,
   "id": "b270fbc6",
   "metadata": {},
   "outputs": [],
   "source": [
    "from sklearn.metrics import accuracy_score, precision_score, recall_score, f1_score, roc_auc_score"
   ]
  },
  {
   "cell_type": "code",
   "execution_count": null,
   "id": "1daf9209",
   "metadata": {},
   "outputs": [],
   "source": [
    "# Evaluate performance\n",
    "print(\"AdaBoost - Accuracy:\", accuracy_score(y_test, y_pred_adaboost))\n",
    "print(\"SVM - Accuracy:\", accuracy_score(y_test, y_pred_svm))"
   ]
  },
  {
   "cell_type": "code",
   "execution_count": null,
   "id": "95bb7b3f",
   "metadata": {},
   "outputs": [],
   "source": []
  },
  {
   "cell_type": "code",
   "execution_count": null,
   "id": "9fdb9405",
   "metadata": {},
   "outputs": [],
   "source": [
    "#Calculate each metric individually\n",
    "precision = precision_score(y_test, y_pred_svm)\n",
    "recall = recall_score(y_test, y_pred_svm)\n",
    "f1 = f1_score(y_test, y_pred_svm)\n",
    "\n",
    "print(f\"Precision: {precision:.3f}\")\n",
    "print(f\"Recall: {recall:.3f}\")\n",
    "print(f\"F1 Score: {f1:.3f}\")"
   ]
  },
  {
   "cell_type": "code",
   "execution_count": null,
   "id": "8b2fc1d9",
   "metadata": {},
   "outputs": [],
   "source": [
    "#Calculate each metric individually\n",
    "precision = precision_score(y_test, y_pred_adaboost)\n",
    "recall = recall_score(y_test, y_pred_adaboost)\n",
    "f1 = f1_score(y_test, y_pred_adaboost)\n",
    "\n",
    "print(f\"Precision: {precision:.3f}\")\n",
    "print(f\"Recall: {recall:.3f}\")\n",
    "print(f\"F1 Score: {f1:.3f}\")"
   ]
  },
  {
   "cell_type": "code",
   "execution_count": null,
   "id": "c4d8fd9e",
   "metadata": {},
   "outputs": [],
   "source": []
  },
  {
   "cell_type": "code",
   "execution_count": null,
   "id": "e6d6ee70",
   "metadata": {},
   "outputs": [],
   "source": [
    "from sklearn.metrics import confusion_matrix\n",
    "import matplotlib.pyplot as plt\n",
    "import seaborn as sns\n",
    "\n",
    "# Generate the confusion matrix\n",
    "cm = confusion_matrix(y_test, y_pred_svm)\n",
    "\n",
    "# Plot the confusion matrix\n",
    "plt.figure(figsize=(4, 4))\n",
    "sns.heatmap(cm, annot=True, fmt='d', cbar=False)\n",
    "plt.xlabel('Predicted Label')\n",
    "plt.ylabel('True Label')\n",
    "plt.title('Confusion Matrix For Support Vector Classifier')\n",
    "plt.show()"
   ]
  },
  {
   "cell_type": "code",
   "execution_count": null,
   "id": "6fdc957d",
   "metadata": {},
   "outputs": [],
   "source": [
    "from sklearn.metrics import confusion_matrix\n",
    "import seaborn as sns\n",
    "\n",
    "# Generate the confusion matrix\n",
    "cm = confusion_matrix(y_test, y_pred_adaboost)\n",
    "\n",
    "# Plot the confusion matrix\n",
    "plt.figure(figsize=(4, 4))\n",
    "sns.heatmap(cm, annot=True, fmt='d', cbar=False)\n",
    "plt.xlabel('Predicted Label')\n",
    "plt.ylabel('True Label')\n",
    "plt.title('Confusion Matrix For SVM-AdaBoost')\n",
    "plt.show()"
   ]
  },
  {
   "cell_type": "code",
   "execution_count": null,
   "id": "527fb981",
   "metadata": {},
   "outputs": [],
   "source": []
  },
  {
   "cell_type": "code",
   "execution_count": null,
   "id": "8d76fd1c",
   "metadata": {},
   "outputs": [],
   "source": [
    "from sklearn.metrics import roc_curve, auc\n",
    "import matplotlib.pyplot as plt\n",
    "\n",
    "# ROC Curve for SVM\n",
    "fpr_svc, tpr_svc, _ = roc_curve(y_test, svm_model.predict_proba(X_test)[:,1])\n",
    "roc_auc_svc = auc(fpr_svc, tpr_svc)\n",
    "plt.plot(fpr_svc, tpr_svc, label='SVM ROC curve (area = %0.2f)' % roc_auc_svc)\n",
    "\n",
    "\n",
    "# ROC Curve for AdaBoost\n",
    "fpr_ada, tpr_ada, _ = roc_curve(y_test, adaboost_svm_model.predict_proba(X_test)[:,1])\n",
    "roc_auc_ada = auc(fpr_ada, tpr_ada)\n",
    "plt.plot(fpr_ada, tpr_ada, label='AdaBoost ROC curve (area = %0.2f)' % roc_auc_ada)\n",
    "\n",
    "\n",
    "# Plot settings\n",
    "plt.plot([0, 1], [0, 1], 'k--')  # Dashed diagonal line\n",
    "plt.xlim([0.0, 1.0])\n",
    "plt.ylim([0.0, 1.05])\n",
    "plt.xlabel('False Positive Rate')\n",
    "plt.ylabel('True Positive Rate')\n",
    "plt.title('Receiver Operating Characteristic (ROC)')\n",
    "plt.legend(loc='lower right')\n",
    "plt.show()"
   ]
  },
  {
   "cell_type": "code",
   "execution_count": null,
   "id": "6dd09438",
   "metadata": {},
   "outputs": [],
   "source": []
  }
 ],
 "metadata": {
  "kernelspec": {
   "display_name": "Python 3 (ipykernel)",
   "language": "python",
   "name": "python3"
  },
  "language_info": {
   "codemirror_mode": {
    "name": "ipython",
    "version": 3
   },
   "file_extension": ".py",
   "mimetype": "text/x-python",
   "name": "python",
   "nbconvert_exporter": "python",
   "pygments_lexer": "ipython3",
   "version": "3.10.9"
  }
 },
 "nbformat": 4,
 "nbformat_minor": 5
}
